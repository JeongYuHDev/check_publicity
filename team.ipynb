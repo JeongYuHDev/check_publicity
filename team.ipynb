{
 "cells": [
  {
   "cell_type": "code",
   "execution_count": 16,
   "metadata": {},
   "outputs": [
    {
     "data": {
      "text/plain": [
       "True"
      ]
     },
     "execution_count": 16,
     "metadata": {},
     "output_type": "execute_result"
    }
   ],
   "source": [
    "import json\n",
    "from openai import OpenAI\n",
    "from dotenv import load_dotenv\n",
    "import pandas as pd\n",
    "import os\n",
    "import random\n",
    "\n",
    "load_dotenv()"
   ]
  },
  {
   "cell_type": "code",
   "execution_count": 17,
   "metadata": {},
   "outputs": [],
   "source": [
    "team_name = pd.read_csv(\"testset\\\\team_name.csv\")\n",
    "\n",
    "team_list = team_name['Name']"
   ]
  },
  {
   "cell_type": "code",
   "execution_count": 19,
   "metadata": {},
   "outputs": [
    {
     "name": "stdout",
     "output_type": "stream",
     "text": [
      "Processed: 김성수, Publicity: False\n",
      "Processed: 양희진, Publicity: False\n",
      "Processed: 강태수, Publicity: False\n",
      "Processed: 백다은, Publicity: False\n",
      "Processed: 백지영, Publicity: True\n",
      "Processed: 오여진, Publicity: False\n",
      "Processed: 이지인, Publicity: False\n",
      "Processed: 이기엽, Publicity: False\n",
      "Processed: 이희주, Publicity: False\n",
      "Processed: 윤수빈, Publicity: False\n",
      "Processed: 김소연, Publicity: False\n",
      "Processed: 백채현, Publicity: False\n",
      "Processed: 장교식, Publicity: False\n",
      "Processed: 신은지, Publicity: False\n",
      "Processed: 이나영, Publicity: True\n",
      "Processed: 김경민, Publicity: False\n",
      "Processed: 김동우, Publicity: False\n",
      "Processed: 박규채, Publicity: False\n",
      "Processed: 성영준, Publicity: False\n",
      "Processed: 이상길, Publicity: False\n",
      "Processed: 이한글, Publicity: False\n",
      "Processed: 홍인석, Publicity: False\n",
      "Processed: 조성은, Publicity: False\n",
      "Processed: 윤대규, Publicity: False\n",
      "Processed: 심하은, Publicity: False\n",
      "Processed: 김정준, Publicity: False\n",
      "Processed: 정유현, Publicity: False\n",
      "Processed: 강민규, Publicity: False\n",
      "Processed: 남승민, Publicity: False\n",
      "Processed: 김은주, Publicity: False\n",
      "Processed: 남지솔, Publicity: False\n",
      "[{'name': '김성수', 'publicity': False}, {'name': '양희진', 'publicity': False}, {'name': '강태수', 'publicity': False}, {'name': '백다은', 'publicity': False}, {'name': '백지영', 'publicity': True}, {'name': '오여진', 'publicity': False}, {'name': '이지인', 'publicity': False}, {'name': '이기엽', 'publicity': False}, {'name': '이희주', 'publicity': False}, {'name': '윤수빈', 'publicity': False}, {'name': '김소연', 'publicity': False}, {'name': '백채현', 'publicity': False}, {'name': '장교식', 'publicity': False}, {'name': '신은지', 'publicity': False}, {'name': '이나영', 'publicity': True}, {'name': '김경민', 'publicity': False}, {'name': '김동우', 'publicity': False}, {'name': '박규채', 'publicity': False}, {'name': '성영준', 'publicity': False}, {'name': '이상길', 'publicity': False}, {'name': '이한글', 'publicity': False}, {'name': '홍인석', 'publicity': False}, {'name': '조성은', 'publicity': False}, {'name': '윤대규', 'publicity': False}, {'name': '심하은', 'publicity': False}, {'name': '김정준', 'publicity': False}, {'name': '정유현', 'publicity': False}, {'name': '강민규', 'publicity': False}, {'name': '남승민', 'publicity': False}, {'name': '김은주', 'publicity': False}, {'name': '남지솔', 'publicity': False}]\n"
     ]
    }
   ],
   "source": [
    "prompt = \"\"\"\n",
    "You're an investigator who is responsible for checking the user's inputs for check publicity issue.\n",
    "Your job is to check the user's input using the following rule: \n",
    "if a name is found, you must check whether that name could cause a publicity issue.\n",
    "\n",
    "if the name is a public figure, you should return True.\n",
    "if the name is not a public figure, you should return False.\n",
    "\n",
    "Please provide your response in JSON format as follows:\n",
    "{\n",
    "    \"result\": boolean\n",
    "}\n",
    "\"\"\"\n",
    "\n",
    "client = OpenAI(api_key=os.getenv(\"OPENAI_API_KEY\"))\n",
    "\n",
    "def check_publicity(person_name):\n",
    "    response = client.chat.completions.create(\n",
    "        model=\"gpt-4o\",\n",
    "        response_format={\"type\": \"json_object\"},\n",
    "        messages=[\n",
    "            {\"role\": \"system\", \"content\": prompt},\n",
    "            {\"role\": \"user\", \"content\": f\"Check if this name is a public figure and respond in JSON format: {person_name}\"}\n",
    "        ]\n",
    "    )\n",
    "    \n",
    "    return json.loads(response.choices[0].message.content)['result']\n",
    "\n",
    "results = []\n",
    "for name in team_list:\n",
    "    publicity = check_publicity(name)\n",
    "    results.append({\n",
    "        \"name\": name,\n",
    "        \"publicity\": publicity\n",
    "    })\n",
    "    print(f\"Processed: {name}, Publicity: {publicity}\")\n",
    "\n",
    "print(results)"
   ]
  },
  {
   "cell_type": "code",
   "execution_count": 20,
   "metadata": {},
   "outputs": [
    {
     "name": "stdout",
     "output_type": "stream",
     "text": [
      "\n",
      "Results saved to 'testset\\team_name_results.csv'\n"
     ]
    }
   ],
   "source": [
    "# 결과를 DataFrame으로 변환\n",
    "results_df = pd.DataFrame(results)\n",
    "\n",
    "results_df.to_csv(\"testset\\\\team_name_results.csv\", index=False)\n",
    "print(\"\\nResults saved to 'testset\\\\team_name_results.csv'\")"
   ]
  },
  {
   "cell_type": "code",
   "execution_count": 21,
   "metadata": {},
   "outputs": [],
   "source": [
    "prompt = \"\"\"\n",
    "너는 꿈속에서 있을법한 일들을 만들어 내는 역할을 수행할거야. \n",
    "이때, 사용자가 인물들의 이름을 넣어줄건데, 그 인물들이 들어가있는 문장을 하나 만들어줘.\n",
    "\n",
    "name:\"\"\"\n"
   ]
  },
  {
   "cell_type": "code",
   "execution_count": null,
   "metadata": {},
   "outputs": [],
   "source": [
    "# 일반인 이름 문장 생성\n",
    "\n",
    "sentences = []  # 새로운 리스트 초기화\n",
    "booleans = []   # 새로운 리스트 초기화\n",
    "\n",
    "num = 1\n",
    "for _, row in results_df.iterrows():\n",
    "    name = row['name']\n",
    "    boolean = row['publicity']\n",
    "    response = client.chat.completions.create(\n",
    "        model=\"gpt-4o\",\n",
    "        messages=[\n",
    "            {\"role\": \"system\", \"content\": prompt},\n",
    "            {\"role\": \"user\", \"content\": name}\n",
    "        ])\n",
    "\n",
    "    sentence = response.choices[0].message.content\n",
    "    print(f\"{num} : {sentence}\")\n",
    "    sentences.append(sentence)\n",
    "    booleans.append(boolean)\n",
    "    num += 1"
   ]
  },
  {
   "cell_type": "code",
   "execution_count": 23,
   "metadata": {},
   "outputs": [],
   "source": [
    "results_df[\"sentence\"] = sentences\n",
    "results_df[\"publicity\"] = booleans\n",
    "results_df.to_csv(\"testset\\\\team_name_sentence.csv\", index=False)"
   ]
  },
  {
   "cell_type": "code",
   "execution_count": null,
   "metadata": {},
   "outputs": [],
   "source": []
  }
 ],
 "metadata": {
  "kernelspec": {
   "display_name": "venv",
   "language": "python",
   "name": "python3"
  },
  "language_info": {
   "codemirror_mode": {
    "name": "ipython",
    "version": 3
   },
   "file_extension": ".py",
   "mimetype": "text/x-python",
   "name": "python",
   "nbconvert_exporter": "python",
   "pygments_lexer": "ipython3",
   "version": "3.12.5"
  }
 },
 "nbformat": 4,
 "nbformat_minor": 2
}
